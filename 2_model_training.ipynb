{
 "cells": [
  {
   "cell_type": "code",
   "execution_count": 2,
   "id": "3643f8ea-c230-4e5a-998d-f767c71ac86f",
   "metadata": {},
   "outputs": [
    {
     "ename": "ValueError",
     "evalue": "all the input arrays must have same number of dimensions, but the array at index 0 has 2 dimension(s) and the array at index 1 has 1 dimension(s)",
     "output_type": "error",
     "traceback": [
      "\u001b[1;31m---------------------------------------------------------------------------\u001b[0m",
      "\u001b[1;31mValueError\u001b[0m                                Traceback (most recent call last)",
      "Cell \u001b[1;32mIn[2], line 27\u001b[0m\n\u001b[0;32m     25\u001b[0m     y_data \u001b[38;5;241m=\u001b[39m np\u001b[38;5;241m.\u001b[39marray([file_name\u001b[38;5;241m.\u001b[39msplit(\u001b[38;5;124m'\u001b[39m\u001b[38;5;124m.\u001b[39m\u001b[38;5;124m'\u001b[39m)[\u001b[38;5;241m0\u001b[39m]] \u001b[38;5;241m*\u001b[39m size_data)\u001b[38;5;241m.\u001b[39mreshape(\u001b[38;5;241m-\u001b[39m\u001b[38;5;241m1\u001b[39m, \u001b[38;5;241m1\u001b[39m)\n\u001b[0;32m     26\u001b[0m \u001b[38;5;28;01melse\u001b[39;00m:\n\u001b[1;32m---> 27\u001b[0m     X_data \u001b[38;5;241m=\u001b[39m np\u001b[38;5;241m.\u001b[39mconcatenate((X_data, np\u001b[38;5;241m.\u001b[39mload(file_name)))\n\u001b[0;32m     28\u001b[0m     y_data \u001b[38;5;241m=\u001b[39m np\u001b[38;5;241m.\u001b[39mconcatenate((y_data, np\u001b[38;5;241m.\u001b[39marray([file_name\u001b[38;5;241m.\u001b[39msplit(\u001b[38;5;124m'\u001b[39m\u001b[38;5;124m.\u001b[39m\u001b[38;5;124m'\u001b[39m)[\u001b[38;5;241m0\u001b[39m]] \u001b[38;5;241m*\u001b[39m size_data)\u001b[38;5;241m.\u001b[39mreshape(\u001b[38;5;241m-\u001b[39m\u001b[38;5;241m1\u001b[39m, \u001b[38;5;241m1\u001b[39m)))\n\u001b[0;32m     30\u001b[0m \u001b[38;5;66;03m# Store the class name in the list\u001b[39;00m\n",
      "\u001b[1;31mValueError\u001b[0m: all the input arrays must have same number of dimensions, but the array at index 0 has 2 dimension(s) and the array at index 1 has 1 dimension(s)"
     ]
    }
   ],
   "source": [
    "import os\n",
    "import numpy as np\n",
    "import cv2\n",
    "from tensorflow.keras.utils import to_categorical\n",
    "\n",
    "from keras.layers import Input, Dense\n",
    "from keras.models import Model\n",
    "\n",
    "is_initialized = False\n",
    "size_data = -1\n",
    "\n",
    "label_names = []\n",
    "label_dict = {}\n",
    "class_count = 0\n",
    "\n",
    "# Iterate over files in the directory\n",
    "for file_name in os.listdir():\n",
    "    # Check if the file is a numpy file and not the label file\n",
    "    if file_name.split(\".\")[-1] == \"npy\" and not (file_name.split(\".\")[0] == \"labels\"):\n",
    "        # Load the data from the numpy file\n",
    "        if not (is_initialized):\n",
    "            is_initialized = True\n",
    "            X_data = np.load(file_name)\n",
    "            size_data = X_data.shape[0]\n",
    "            y_data = np.array([file_name.split('.')[0]] * size_data).reshape(-1, 1)\n",
    "        else:\n",
    "            X_data = np.concatenate((X_data, np.load(file_name)))\n",
    "            y_data = np.concatenate((y_data, np.array([file_name.split('.')[0]] * size_data).reshape(-1, 1)))\n",
    "\n",
    "        # Store the class name in the list\n",
    "        label_names.append(file_name.split('.')[0])\n",
    "        # Store the class name and index in the dictionary\n",
    "        label_dict[file_name.split('.')[0]] = class_count\n",
    "        class_count += 1\n",
    "\n",
    "# Convert the class labels to categorical format\n",
    "for i in range(y_data.shape[0]):\n",
    "    y_data[i, 0] = label_dict[y_data[i, 0]]\n",
    "y_data = np.array(y_data, dtype=\"int32\")\n",
    "\n",
    "y_data = to_categorical(y_data)\n",
    "\n",
    "X_new_data = X_data.copy()\n",
    "y_new_data = y_data.copy()\n",
    "counter_data = 0\n",
    "\n",
    "# Shuffle the data\n",
    "count_arr = np.arange(X_data.shape[0])\n",
    "np.random.shuffle(count_arr)\n",
    "\n",
    "# Rearrange the data based on the shuffled indices\n",
    "for i in count_arr:\n",
    "    X_new_data[counter_data] = X_data[i]\n",
    "    y_new_data[counter_data] = y_data[i]\n",
    "    counter_data += 1\n",
    "\n",
    "#creating an ANN model\n",
    "input_layer = Input(shape=(X_data.shape[1],))\n",
    "model_layer = Dense(128, activation=\"tanh\")(input_layer)\n",
    "model_layer = Dense(64, activation=\"tanh\")(model_layer)\n",
    "output_layer = Dense(y_data.shape[1], activation=\"softmax\")(model_layer)\n",
    "model = Model(inputs=input_layer, outputs=output_layer)\n",
    "\n",
    "#compiling the model\n",
    "model.compile(optimizer='rmsprop', loss=\"categorical_crossentropy\", metrics=['acc'])\n",
    "\n",
    "#training the model\n",
    "model.fit(X_new_data, y_new_data, epochs=80)\n",
    "\n",
    "model.save(\"trained_model.h5\")#saving the trained model\n",
    "np.save(\"class_labels.npy\", np.array(label_names))\n",
    "\n",
    "print('MODEL TRAINING COMPLETE...')\n"
   ]
  },
  {
   "cell_type": "code",
   "execution_count": null,
   "id": "a5a671be-58cb-4edc-ae30-e17b2887ffd2",
   "metadata": {},
   "outputs": [],
   "source": []
  }
 ],
 "metadata": {
  "kernelspec": {
   "display_name": "Python 3 (ipykernel)",
   "language": "python",
   "name": "python3"
  },
  "language_info": {
   "codemirror_mode": {
    "name": "ipython",
    "version": 3
   },
   "file_extension": ".py",
   "mimetype": "text/x-python",
   "name": "python",
   "nbconvert_exporter": "python",
   "pygments_lexer": "ipython3",
   "version": "3.12.7"
  }
 },
 "nbformat": 4,
 "nbformat_minor": 5
}
